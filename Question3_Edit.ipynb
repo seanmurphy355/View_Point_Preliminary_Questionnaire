{
  "nbformat": 4,
  "nbformat_minor": 0,
  "metadata": {
    "kernelspec": {
      "display_name": "Python 3",
      "language": "python",
      "name": "python3"
    },
    "language_info": {
      "codemirror_mode": {
        "name": "ipython",
        "version": 3
      },
      "file_extension": ".py",
      "mimetype": "text/x-python",
      "name": "python",
      "nbconvert_exporter": "python",
      "pygments_lexer": "ipython3",
      "version": "3.7.3"
    },
    "colab": {
      "name": "Question3_Edit.ipynb",
      "provenance": [],
      "collapsed_sections": []
    }
  },
  "cells": [
    {
      "cell_type": "code",
      "metadata": {
        "colab": {
          "base_uri": "https://localhost:8080/"
        },
        "id": "YssVpwzPoM7k",
        "outputId": "4029c714-61d7-44b1-fbab-47370ef72aef"
      },
      "source": [
        "# This is a Python 3 file that generates data for\n",
        "# prospective data engineer candidates.\n",
        "\n",
        "import pandas as pd\n",
        "from random import random\n",
        "nums = list()\n",
        "\n",
        "for i in range(0,10000):\n",
        "    ui = 0;\n",
        "    for x in range(0,12):\n",
        "        ui = ui + random()\n",
        "    nums.append(5 + 3*ui)\n",
        "        \n",
        "df = pd.DataFrame(nums)\n",
        "df.to_csv(\"data.csv\", header=0)\n",
        "print(\"done.\")\n",
        "    \n",
        "    \n",
        "    "
      ],
      "execution_count": 3,
      "outputs": [
        {
          "output_type": "stream",
          "text": [
            "done.\n"
          ],
          "name": "stdout"
        }
      ]
    },
    {
      "cell_type": "code",
      "metadata": {
        "colab": {
          "base_uri": "https://localhost:8080/",
          "height": 299
        },
        "id": "rgiZMVmSoM7m",
        "outputId": "97054b77-7960-437a-ecf6-7594a0882a91"
      },
      "source": [
        "# Hmmm...  I wonder what this does?\n",
        "import statistics\n",
        "from matplotlib import pyplot as plt\n",
        "%matplotlib inline\n",
        "\n",
        "plt.hist(nums, bins=100, range=[0,50])\n",
        "print(\"Mean: {}\".format(statistics.mean(nums)))\n",
        "print(\"Std:  {}\".format(statistics.stdev(nums)))"
      ],
      "execution_count": 4,
      "outputs": [
        {
          "output_type": "stream",
          "text": [
            "Mean: 23.028717807415283\n",
            "Std:  3.012244430784222\n"
          ],
          "name": "stdout"
        },
        {
          "output_type": "display_data",
          "data": {
            "image/png": "[encoded data removed]",
            "text/plain": [
              "<Figure size 432x288 with 1 Axes>"
            ]
          },
          "metadata": {
            "tags": [],
            "needs_background": "light"
          }
        }
      ]
    },
    {
      "cell_type": "markdown",
      "metadata": {
        "id": "BP5ZL0mQrKyV"
      },
      "source": [
        "\n",
        "1. Talking about the descriptive statistics in regards to the data that was provided above. First off let us define what a descriptive statistic is; A general definition for the term descriptive statics could be the following: A summary statistic that summarizes (quantitatively) features in regards to the collection of information. A descriptive Statistic is essentially a means of analysing our data collection.\n",
        "\n",
        "Given:\n",
        "\n",
        "1. Histogram: In general this shows the approximate distribution of our numerical data set. (A means of graphical representation).\n",
        "\n",
        "2. Mean: The average of our data set (can be found by adding up all data points and dividing this value by the number of values in our set).\n",
        "\n",
        "3. Standard Deviation(std): This is a measure of variation/dispersion in the given data set.\n",
        "\n",
        "\n",
        "Thoughts (just looking at the data given):\n",
        "1. We have an average value of 23.028 (Based off of the csv given this is for arbitrary data)\n",
        "\n",
        "2. Based on a standard deviation value of 3 we have a decent spread in the data that was collected and synthesized. 99.7% of our data lies within 3 standard deviations of our mean(23.028). This could mean we have 99.7% confidence that would depend on the threshold of the project. (near certainty and certainty depend on the contrants of the project). EX: In certain fields of science only 2 standard deviations away from the mean are considered statistically significant. (just depends)\n",
        "\n",
        "3. Just from looking at this histogram I don't see many outliers that show up visually. It might be smart to create a python script in-order to find the number of outliers that occur outside of a given range.\n",
        "\n",
        "4. All and all from the data.csv looks like it has a solid distribution.\n",
        "\n",
        "Final Thoughts:\n",
        "\n",
        "Probably need more Quantitative figures + actual understanding of the data set to make further claims.\n",
        "links: link text https://en.wikipedia.org/wiki/68%E2%80%9395%E2%80%9399.7_rule\n"
      ]
    }
  ]
}