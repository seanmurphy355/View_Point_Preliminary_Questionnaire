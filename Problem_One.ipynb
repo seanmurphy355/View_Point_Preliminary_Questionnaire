{
  "nbformat": 4,
  "nbformat_minor": 0,
  "metadata": {
    "colab": {
      "name": "Problem_One.ipynb",
      "provenance": [],
      "collapsed_sections": []
    },
    "kernelspec": {
      "name": "python3",
      "display_name": "Python 3"
    }
  },
  "cells": [
    {
      "cell_type": "code",
      "metadata": {
        "colab": {
          "base_uri": "https://localhost:8080/"
        },
        "id": "TmAkR-FCCmkB",
        "outputId": "df479c40-8309-4677-fbd4-25debb7be4dc"
      },
      "source": [
        "import numpy as np\n",
        "import pandas as pd\n",
        "from pandas import DataFrame \n",
        "\n",
        "# df_One is = the data frame version of the name_tables table that was given in the problem. (one change is that this data frame version does contain a index on the left hand side.)\n",
        "df_One = pd.DataFrame(\n",
        "    [['V001','Abe'],\n",
        "    ['V002','Abhay'],\n",
        "    ['V003','Acelin'],\n",
        "    ['V004','Adelphos']],\n",
        "    columns = ['StudentID','Name'])\n",
        "\n",
        "# data frame version of mark_table\n",
        "df_Two = pd.DataFrame(\n",
        "    [['V001',95],\n",
        "    ['V002',80],\n",
        "    ['V003',74],\n",
        "    ['V004',81]],\n",
        "    columns = ['StudentID','Total_marks'])\n",
        "\n",
        "#part B \n",
        "def CaseConverter(data_Frame):\n",
        "\n",
        "  #Convert our data into an array\n",
        "  data_Frame = np.array(data_Frame)\n",
        "\n",
        "  #Find what we need to change\n",
        "  for data in range (0,4):\n",
        "      if \"e\" in data_Frame[data][1]:\n",
        "        data_Frame[data][1] = data_Frame[data][1].upper()\n",
        "      if \"E\" in data_Frame[data][1]:\n",
        "        data_Frame[data][1] = data_Frame[data][1].upper()\n",
        "      else:\n",
        "        data_Frame[data][1] = data_Frame[data][1].lower()\n",
        "\n",
        "  #convert everything baack to a data frame\n",
        "  Case_Frame =  pd.DataFrame({'StudentID': data_Frame[:,0],'Name': data_Frame[:,1]})\n",
        "  return Case_Frame\n",
        "\n",
        "#Run and print results\n",
        "Case_Frame = CaseConverter(df_One)\n",
        "print(\"Results for part B\")\n",
        "print (Case_Frame)\n",
        "print('\\n')\n",
        "\n",
        "#function for solving part C\n",
        "def convertedTable(df_Two,Case_Frame):\n",
        "\n",
        "  #convert our data into a merged data table\n",
        "  results = pd.merge(Case_Frame, df_Two, how ='inner')\n",
        "  return results\n",
        "\n",
        "#Call convertedTable to do work\n",
        "Part_C = convertedTable(df_Two,Case_Frame)\n",
        "print(\"Results for part C\")\n",
        "print(Part_C)\n",
        "\n"
      ],
      "execution_count": 211,
      "outputs": [
        {
          "output_type": "stream",
          "text": [
            "Results for part B\n",
            "  StudentID      Name\n",
            "0      V001       ABE\n",
            "1      V002     abhay\n",
            "2      V003    ACELIN\n",
            "3      V004  ADELPHOS\n",
            "\n",
            "\n",
            "Results for part C\n",
            "  StudentID      Name  Total_marks\n",
            "0      V001       ABE           95\n",
            "1      V002     abhay           80\n",
            "2      V003    ACELIN           74\n",
            "3      V004  ADELPHOS           81\n"
          ],
          "name": "stdout"
        }
      ]
    },
    {
      "cell_type": "code",
      "metadata": {
        "id": "zCcxk7ZiEdsY"
      },
      "source": [
        ""
      ],
      "execution_count": null,
      "outputs": []
    }
  ]
}