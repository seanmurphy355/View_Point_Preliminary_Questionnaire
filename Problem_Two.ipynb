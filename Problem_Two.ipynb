{
  "nbformat": 4,
  "nbformat_minor": 0,
  "metadata": {
    "colab": {
      "name": "Problem_Two.ipynb",
      "provenance": []
    },
    "kernelspec": {
      "name": "python3",
      "display_name": "Python 3"
    }
  },
  "cells": [
    {
      "cell_type": "code",
      "metadata": {
        "id": "abHIxql0d05I"
      },
      "source": [
        "# import any libraries we might need (just listed a few common ones)\n",
        "import numpy as np\n",
        "import pandas as pd\n",
        "import matplotlib.pyplot as plt\n",
        "import seaborn as sns\n",
        "from pandas import DataFrame \n",
        "\n",
        "# I have little to no experience with what this question is asking so I will carry out my answer under the assumption that question 2 is asking me to simply just prepare a csv file to be used for data exploration.\n",
        "# Note the values used to answer this question are completely ambiguous and could be changed depending on the tasks requirments due to the vague nature of this question all parameters place holders.\n",
        "\n",
        "#if needed set some max sizes\n",
        "pd.set_option('max_columns', 300)\n",
        "pd.set_option('max_colwidth', 3000)\n",
        "\n",
        "# render our figure in the notebook to make data easier to read\n",
        "%matplotlib inline\n",
        "plt.rcParams['figure.figsize'] = (12,8)\n",
        "\n",
        "# Some data cleaning clean out any potential parsing errors and drop cols that have a ton of missing data\n",
        "data_2017  = pd.read_csv('2017.csv',skiprows=0, low_memory=False)\n",
        "half = len(data_2017) / 2\n",
        "data_2017 = data_2017 .dropna(thresh=half,axis=1) # Drop any column with more than 50% missing values\n"
      ],
      "execution_count": 13,
      "outputs": []
    },
    {
      "cell_type": "code",
      "metadata": {
        "id": "3d2w6hWpjGL_"
      },
      "source": [
        "#check to see if data was correctly loaded now we can see the frist 20 index values of data/text\n",
        "data_2017.head(20)"
      ],
      "execution_count": null,
      "outputs": []
    },
    {
      "cell_type": "code",
      "metadata": {
        "id": "vqwduK6QjAbF"
      },
      "source": [
        "#number of entries and data rows in our given set\n",
        "data_2017.shape \n"
      ],
      "execution_count": null,
      "outputs": []
    },
    {
      "cell_type": "code",
      "metadata": {
        "colab": {
          "base_uri": "https://localhost:8080/",
          "height": 238
        },
        "id": "NuQNKhBPjNZD",
        "outputId": "c62a3258-45fb-4a5a-cb21-b9a52218719d"
      },
      "source": [
        "#place data in dictionary if needed\n",
        "dic_2017 = pd.read_csv('2017.csv')\n",
        "print(dic_2017.shape[0])\n",
        "print(dic_2017.columns.tolist())\n",
        "#print current data head\n",
        "dic_2017.head()\n"
      ],
      "execution_count": 23,
      "outputs": [
        {
          "output_type": "stream",
          "text": [
            "377\n",
            "['NAME', 'STATUS', 'SALARY', 'PAY BASIS', 'POSITION TITLE']\n"
          ],
          "name": "stdout"
        },
        {
          "output_type": "execute_result",
          "data": {
            "text/html": [
              "<div>\n",
              "<style scoped>\n",
              "    .dataframe tbody tr th:only-of-type {\n",
              "        vertical-align: middle;\n",
              "    }\n",
              "\n",
              "    .dataframe tbody tr th {\n",
              "        vertical-align: top;\n",
              "    }\n",
              "\n",
              "    .dataframe thead th {\n",
              "        text-align: right;\n",
              "    }\n",
              "</style>\n",
              "<table border=\"1\" class=\"dataframe\">\n",
              "  <thead>\n",
              "    <tr style=\"text-align: right;\">\n",
              "      <th></th>\n",
              "      <th>NAME</th>\n",
              "      <th>STATUS</th>\n",
              "      <th>SALARY</th>\n",
              "      <th>PAY BASIS</th>\n",
              "      <th>POSITION TITLE</th>\n",
              "    </tr>\n",
              "  </thead>\n",
              "  <tbody>\n",
              "    <tr>\n",
              "      <th>0</th>\n",
              "      <td>Alexander, Monica K.</td>\n",
              "      <td>Employee</td>\n",
              "      <td>$56,000.00</td>\n",
              "      <td>Per Annum</td>\n",
              "      <td>EXECUTIVE ASSISTANT</td>\n",
              "    </tr>\n",
              "    <tr>\n",
              "      <th>1</th>\n",
              "      <td>Ambrosini, Michael J.</td>\n",
              "      <td>Employee</td>\n",
              "      <td>$95,000.00</td>\n",
              "      <td>Per Annum</td>\n",
              "      <td>SPECIAL ASSISTANT TO THE PRESIDENT AND DIRECTOR OF THE OFFICE OF THE CHIEF OF STAFF</td>\n",
              "    </tr>\n",
              "    <tr>\n",
              "      <th>2</th>\n",
              "      <td>Amin, Stacy C.</td>\n",
              "      <td>Employee</td>\n",
              "      <td>$140,000.00</td>\n",
              "      <td>Per Annum</td>\n",
              "      <td>SPECIAL ASSISTANT TO THE PRESIDENT AND ASSOCIATE COUNSEL TO THE PRESIDENT</td>\n",
              "    </tr>\n",
              "    <tr>\n",
              "      <th>3</th>\n",
              "      <td>Andersen, Whitney N.</td>\n",
              "      <td>Employee</td>\n",
              "      <td>$94,000.00</td>\n",
              "      <td>Per Annum</td>\n",
              "      <td>DEPUTY DIRECTOR OF OPERATIONS FOR THE WHITE HOUSE MANAGEMENT OFFICE</td>\n",
              "    </tr>\n",
              "    <tr>\n",
              "      <th>4</th>\n",
              "      <td>Anderson, Alexander J.</td>\n",
              "      <td>Employee</td>\n",
              "      <td>$77,000.00</td>\n",
              "      <td>Per Annum</td>\n",
              "      <td>DIRECTOR OF DIGITAL ENGAGEMENT</td>\n",
              "    </tr>\n",
              "  </tbody>\n",
              "</table>\n",
              "</div>"
            ],
            "text/plain": [
              "                     NAME    STATUS       SALARY  PAY BASIS  \\\n",
              "0    Alexander, Monica K.  Employee   $56,000.00  Per Annum   \n",
              "1   Ambrosini, Michael J.  Employee   $95,000.00  Per Annum   \n",
              "2          Amin, Stacy C.  Employee  $140,000.00  Per Annum   \n",
              "3    Andersen, Whitney N.  Employee   $94,000.00  Per Annum   \n",
              "4  Anderson, Alexander J.  Employee   $77,000.00  Per Annum   \n",
              "\n",
              "                                                                        POSITION TITLE  \n",
              "0                                                                  EXECUTIVE ASSISTANT  \n",
              "1  SPECIAL ASSISTANT TO THE PRESIDENT AND DIRECTOR OF THE OFFICE OF THE CHIEF OF STAFF  \n",
              "2            SPECIAL ASSISTANT TO THE PRESIDENT AND ASSOCIATE COUNSEL TO THE PRESIDENT  \n",
              "3                  DEPUTY DIRECTOR OF OPERATIONS FOR THE WHITE HOUSE MANAGEMENT OFFICE  \n",
              "4                                                       DIRECTOR OF DIGITAL ENGAGEMENT  "
            ]
          },
          "metadata": {
            "tags": []
          },
          "execution_count": 23
        }
      ]
    },
    {
      "cell_type": "code",
      "metadata": {
        "id": "C658fEqhkZgu"
      },
      "source": [
        "#Rename data rows if needed\n",
        "Rename = dic_2017.rename(columns={'n/a': 'n/a', 'n/a': 'n/a'})\n",
        "Rename.head()"
      ],
      "execution_count": null,
      "outputs": []
    },
    {
      "cell_type": "code",
      "metadata": {
        "colab": {
          "base_uri": "https://localhost:8080/",
          "height": 204
        },
        "id": "UppMD01BlH2T",
        "outputId": "1079309d-55b4-4e49-8f7d-ffa3e2ebc678"
      },
      "source": [
        "#this is totally optional \n",
        "data_2017_dtypes = pd.DataFrame(data_2017.dtypes,columns=['dtypes'])\n",
        "data_2017_dtypes = data_2017_dtypes.reset_index()\n",
        "data_2017_dtypes['NAME'] = data_2017_dtypes['index']\n",
        "data_2017_dtypes = data_2017_dtypes[['NAME','dtypes']]\n",
        "#reposition some of the data and view the index you would like to see\n",
        "data_2017_dtypes['first value'] = data_2017.loc[2].values\n",
        "preview = data_2017_dtypes.merge(dic_2017, on='NAME',how='right')\n",
        "preview.head()\n",
        "\n",
        "\n",
        "\n"
      ],
      "execution_count": 38,
      "outputs": [
        {
          "output_type": "execute_result",
          "data": {
            "text/html": [
              "<div>\n",
              "<style scoped>\n",
              "    .dataframe tbody tr th:only-of-type {\n",
              "        vertical-align: middle;\n",
              "    }\n",
              "\n",
              "    .dataframe tbody tr th {\n",
              "        vertical-align: top;\n",
              "    }\n",
              "\n",
              "    .dataframe thead th {\n",
              "        text-align: right;\n",
              "    }\n",
              "</style>\n",
              "<table border=\"1\" class=\"dataframe\">\n",
              "  <thead>\n",
              "    <tr style=\"text-align: right;\">\n",
              "      <th></th>\n",
              "      <th>NAME</th>\n",
              "      <th>dtypes</th>\n",
              "      <th>first value</th>\n",
              "      <th>STATUS</th>\n",
              "      <th>SALARY</th>\n",
              "      <th>PAY BASIS</th>\n",
              "      <th>POSITION TITLE</th>\n",
              "    </tr>\n",
              "  </thead>\n",
              "  <tbody>\n",
              "    <tr>\n",
              "      <th>0</th>\n",
              "      <td>Alexander, Monica K.</td>\n",
              "      <td>NaN</td>\n",
              "      <td>NaN</td>\n",
              "      <td>Employee</td>\n",
              "      <td>$56,000.00</td>\n",
              "      <td>Per Annum</td>\n",
              "      <td>EXECUTIVE ASSISTANT</td>\n",
              "    </tr>\n",
              "    <tr>\n",
              "      <th>1</th>\n",
              "      <td>Ambrosini, Michael J.</td>\n",
              "      <td>NaN</td>\n",
              "      <td>NaN</td>\n",
              "      <td>Employee</td>\n",
              "      <td>$95,000.00</td>\n",
              "      <td>Per Annum</td>\n",
              "      <td>SPECIAL ASSISTANT TO THE PRESIDENT AND DIRECTOR OF THE OFFICE OF THE CHIEF OF STAFF</td>\n",
              "    </tr>\n",
              "    <tr>\n",
              "      <th>2</th>\n",
              "      <td>Amin, Stacy C.</td>\n",
              "      <td>NaN</td>\n",
              "      <td>NaN</td>\n",
              "      <td>Employee</td>\n",
              "      <td>$140,000.00</td>\n",
              "      <td>Per Annum</td>\n",
              "      <td>SPECIAL ASSISTANT TO THE PRESIDENT AND ASSOCIATE COUNSEL TO THE PRESIDENT</td>\n",
              "    </tr>\n",
              "    <tr>\n",
              "      <th>3</th>\n",
              "      <td>Andersen, Whitney N.</td>\n",
              "      <td>NaN</td>\n",
              "      <td>NaN</td>\n",
              "      <td>Employee</td>\n",
              "      <td>$94,000.00</td>\n",
              "      <td>Per Annum</td>\n",
              "      <td>DEPUTY DIRECTOR OF OPERATIONS FOR THE WHITE HOUSE MANAGEMENT OFFICE</td>\n",
              "    </tr>\n",
              "    <tr>\n",
              "      <th>4</th>\n",
              "      <td>Anderson, Alexander J.</td>\n",
              "      <td>NaN</td>\n",
              "      <td>NaN</td>\n",
              "      <td>Employee</td>\n",
              "      <td>$77,000.00</td>\n",
              "      <td>Per Annum</td>\n",
              "      <td>DIRECTOR OF DIGITAL ENGAGEMENT</td>\n",
              "    </tr>\n",
              "  </tbody>\n",
              "</table>\n",
              "</div>"
            ],
            "text/plain": [
              "                     NAME dtypes first value    STATUS       SALARY  \\\n",
              "0    Alexander, Monica K.    NaN         NaN  Employee   $56,000.00   \n",
              "1   Ambrosini, Michael J.    NaN         NaN  Employee   $95,000.00   \n",
              "2          Amin, Stacy C.    NaN         NaN  Employee  $140,000.00   \n",
              "3    Andersen, Whitney N.    NaN         NaN  Employee   $94,000.00   \n",
              "4  Anderson, Alexander J.    NaN         NaN  Employee   $77,000.00   \n",
              "\n",
              "   PAY BASIS  \\\n",
              "0  Per Annum   \n",
              "1  Per Annum   \n",
              "2  Per Annum   \n",
              "3  Per Annum   \n",
              "4  Per Annum   \n",
              "\n",
              "                                                                        POSITION TITLE  \n",
              "0                                                                  EXECUTIVE ASSISTANT  \n",
              "1  SPECIAL ASSISTANT TO THE PRESIDENT AND DIRECTOR OF THE OFFICE OF THE CHIEF OF STAFF  \n",
              "2            SPECIAL ASSISTANT TO THE PRESIDENT AND ASSOCIATE COUNSEL TO THE PRESIDENT  \n",
              "3                  DEPUTY DIRECTOR OF OPERATIONS FOR THE WHITE HOUSE MANAGEMENT OFFICE  \n",
              "4                                                       DIRECTOR OF DIGITAL ENGAGEMENT  "
            ]
          },
          "metadata": {
            "tags": []
          },
          "execution_count": 38
        }
      ]
    }
  ]
}